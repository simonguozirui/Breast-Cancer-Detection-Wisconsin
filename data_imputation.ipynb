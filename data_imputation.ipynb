{
 "cells": [
  {
   "cell_type": "markdown",
   "metadata": {
    "collapsed": true
   },
   "source": [
    "<b><font size=\"7\">Data imputation tutorial:</font></b><br/>\n",
    "<br/>\n",
    "Working with real world data means that the data is not likely to be \"cleaned\". It may be missing observations. Rather than just tossing out those examples, it's important to know how to deal with missing data. This tutorial will go through some simple imputation techniques. <br/>\n",
    "<br/>\n",
    "First we need to read in the data."
   ]
  },
  {
   "cell_type": "code",
   "execution_count": null,
   "metadata": {},
   "outputs": [],
   "source": [
    "source(\"https://bioconductor.org/biocLite.R\")\n",
    "biocLite(\"impute\")\n",
    "library(ggplot2)\n",
    "library(impute)\n",
    "source(\"helper_functions.R\")"
   ]
  },
  {
   "cell_type": "code",
   "execution_count": null,
   "metadata": {},
   "outputs": [],
   "source": [
    "# read in data \n",
    "dataset <- read.csv('dataset.csv')\n",
    "# look at first 6 lines\n",
    "head(dataset)"
   ]
  },
  {
   "cell_type": "markdown",
   "metadata": {},
   "source": [
    "Next we are going to introduce missing values to the feature \"area_mean\"."
   ]
  },
  {
   "cell_type": "code",
   "execution_count": null,
   "metadata": {},
   "outputs": [],
   "source": [
    "# convert 10% of area_mean feature into NAs\n",
    "dataset_na <- generate_NAs(dataset, 'area_mean', 0.1)\n",
    "head(dataset_na[,\"area_mean\"], 10)"
   ]
  },
  {
   "cell_type": "markdown",
   "metadata": {},
   "source": [
    "<b><font size=\"5\">Mean imputation:</font></b><br/>\n",
    "<br/>\n",
    "The first imputation strategy we are going to implement is <b>mean imputation</b>. This involves estimating the missing values using the mean of the observed values. Starter code for this function has been provided below:"
   ]
  },
  {
   "cell_type": "code",
   "execution_count": null,
   "metadata": {},
   "outputs": [],
   "source": [
    "# impute missing values using mean imputation \n",
    "mean_imputation <- function(dataset, feature) {\n",
    "    # using the dataset and the feature name, impute missing values using mean imputation \n",
    "    # mean() calculates the mean of a vector\n",
    "    # is.na() provides the indices for all NAs in the vector\n",
    "}"
   ]
  },
  {
   "cell_type": "code",
   "execution_count": null,
   "metadata": {},
   "outputs": [],
   "source": [
    "# impute missing values\n",
    "dataset_mi <- mean_imputation(dataset_na, 'area_mean')"
   ]
  },
  {
   "cell_type": "markdown",
   "metadata": {},
   "source": [
    "Next we want to visualize how well this method works compared to the real values. To do this, we want to generate a scatterplot of the imputed values vs the real values and calculate the correlation between the two. A function has been written to do this for you. You can use it as below or <b>challenge yourself</b> and generate your own plot!"
   ]
  },
  {
   "cell_type": "code",
   "execution_count": null,
   "metadata": {},
   "outputs": [],
   "source": [
    "plot_scatterplot(real = dataset$area_mean, imputed = dataset_mi$area_mean)"
   ]
  },
  {
   "cell_type": "markdown",
   "metadata": {},
   "source": [
    "<b><font size=\"5\">Random imputation:</font></b><br/>\n",
    "<br/>\n",
    "Next we are going to implement <b>random imputation</b>. This method randomly samples from the observed data to fill in the missing values."
   ]
  },
  {
   "cell_type": "code",
   "execution_count": null,
   "metadata": {},
   "outputs": [],
   "source": [
    "# impute missing values using random imputation \n",
    "random_imputation <- function(dataset, feature) {\n",
    "    # using the data and feature name, impute missing values using random imputation\n",
    "    # sample() takes a vector and randomly samples from it depending on the size specified, the replace\n",
    "    # argument says whether to sample with or without replacement\n",
    "    # consider three samples:\n",
    "    # 1) first figure out how many NAs you need to impute\n",
    "    # 2) randomly sample the number of NAs you need from the observed data\n",
    "    # 3) replace the NAs with the randomly sampled values and return the imputed dataset\n",
    "}"
   ]
  },
  {
   "cell_type": "code",
   "execution_count": null,
   "metadata": {},
   "outputs": [],
   "source": [
    "# impute missing values\n",
    "dataset_ri <- random_imputation(dataset_na, 'area_mean')"
   ]
  },
  {
   "cell_type": "code",
   "execution_count": null,
   "metadata": {},
   "outputs": [],
   "source": [
    "plot_scatterplot(real = dataset$area_mean, imputed = dataset_ri$area_mean)"
   ]
  },
  {
   "cell_type": "markdown",
   "metadata": {},
   "source": [
    "<b><font size=\"5\">K-Nearest Neighbours:</font></b><br/>\n",
    "<br/>\n",
    "A third effective method of data imputation is to apply machine learning models to predict the missing values. This can be done by treating the feature with missing data as the response and harnessing the known values of the other features in the model. One effective method is known as <b>k-nearest neighbours (KNN)</b>. This algorithm looks at the k-nearest data points to the missing data value and assigns the missing value as the either the majority class if the feature is categorical or an average of the values if the feature is continuous. <br/>\n",
    "<br/>\n",
    "Check out the following documentation: https://www.rdocumentation.org/packages/caret/versions/6.0-79/topics/preProcess"
   ]
  },
  {
   "cell_type": "code",
   "execution_count": null,
   "metadata": {},
   "outputs": [],
   "source": [
    "# impuate missing values using knn features\n",
    "knn_imputation <- function(dataset, k) {\n",
    "    # impute missing values using knn features\n",
    "    # see function impute.knn from the impute package\n",
    "}"
   ]
  },
  {
   "cell_type": "markdown",
   "metadata": {},
   "source": [
    "Try running with multiple different values of k and see how that changes the correlation of the imputated values with the real values."
   ]
  },
  {
   "cell_type": "code",
   "execution_count": null,
   "metadata": {},
   "outputs": [],
   "source": [
    "dataset_knn <- knn_imputation(dataset_na, k = 10)"
   ]
  },
  {
   "cell_type": "code",
   "execution_count": null,
   "metadata": {},
   "outputs": [],
   "source": [
    "plot_scatterplot(real = dataset$area_mean, imputed = dataset_knn$area_mean)"
   ]
  }
 ],
 "metadata": {
  "kernelspec": {
   "display_name": "R",
   "language": "R",
   "name": "r"
  },
  "language_info": {
   "codemirror_mode": "r",
   "file_extension": ".r",
   "mimetype": "text/x-r-source",
   "name": "R",
   "pygments_lexer": "r",
   "version": "3.4.1"
  }
 },
 "nbformat": 4,
 "nbformat_minor": 2
}
